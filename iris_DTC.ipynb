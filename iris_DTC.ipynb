{
  "nbformat": 4,
  "nbformat_minor": 0,
  "metadata": {
    "colab": {
      "name": "iris_sklearn.ipynb",
      "version": "0.3.2",
      "provenance": [],
      "collapsed_sections": [],
      "include_colab_link": true
    },
    "kernelspec": {
      "name": "python3",
      "display_name": "Python 3"
    }
  },
  "cells": [
    {
      "cell_type": "markdown",
      "metadata": {
        "id": "view-in-github",
        "colab_type": "text"
      },
      "source": [
        "<a href=\"https://colab.research.google.com/github/Crash-overloaded/ML/blob/Supervised_ML/iris_sklearn.ipynb\" target=\"_parent\"><img src=\"https://colab.research.google.com/assets/colab-badge.svg\" alt=\"Open In Colab\"/></a>"
      ]
    },
    {
      "cell_type": "code",
      "metadata": {
        "id": "WLUJi7WPlOmA",
        "colab_type": "code",
        "colab": {}
      },
      "source": [
        "from sklearn.datasets import load_iris\n",
        "from sklearn.model_selection import train_test_split\n",
        "from sklearn.metrics import accuracy_score\n",
        "from sklearn.tree import DecisionTreeClassifier as DTC"
	"import numpy as np"
      ],
      "execution_count": 0,
      "outputs": []
    },
    {
      "cell_type": "code",
      "metadata": {
        "id": "ooKGFBUUrKY4",
        "colab_type": "code",
        "outputId": "487cd986-3e09-46cf-cd0b-634fc1832b91",
        "colab": {
          "base_uri": "https://localhost:8080/",
          "height": 86
        }
      },
      "source": [
        "#Loading iris dataset\n",
        "iris=load_iris()\n",
        "iris.feature_names"
      ],
      "execution_count": 161,
      "outputs": [
        {
          "output_type": "execute_result",
          "data": {
            "text/plain": [
              "['sepal length (cm)',\n",
              " 'sepal width (cm)',\n",
              " 'petal length (cm)',\n",
              " 'petal width (cm)']"
            ]
          },
          "metadata": {
            "tags": []
          },
          "execution_count": 161
        }
      ]
    },
    {
      "cell_type": "code",
      "metadata": {
        "id": "bNmAHBlJr3BZ",
        "colab_type": "code",
        "outputId": "3f671946-0ed4-49d7-e9dc-19bfbfac8779",
        "colab": {
          "base_uri": "https://localhost:8080/",
          "height": 34
        }
      },
      "source": [
        "iris.target_names"
      ],
      "execution_count": 162,
      "outputs": [
        {
          "output_type": "execute_result",
          "data": {
            "text/plain": [
              "array(['setosa', 'versicolor', 'virginica'], dtype='<U10')"
            ]
          },
          "metadata": {
            "tags": []
          },
          "execution_count": 162
        }
      ]
    },
    {
      "cell_type": "code",
      "metadata": {
        "id": "c7R_A7l5r8To",
        "colab_type": "code",
        "colab": {}
      },
      "source": [
        "# actual data with attributes\n",
        "features=iris.data\n",
        "#print(features)\n",
        "# Data or target\n",
        "label=iris.target"
      ],
      "execution_count": 0,
      "outputs": []
    },
    {
      "cell_type": "code",
      "metadata": {
        "id": "3f54M39tualy",
        "colab_type": "code",
        "colab": {}
      },
      "source": [
        "train_data,test_data,label_train,label_test=train_test_split(features,label,test_size=0.3)"
      ],
      "execution_count": 0,
      "outputs": []
    },
    {
      "cell_type": "code",
      "metadata": {
        "id": "QDeWd7QSzIfQ",
        "colab_type": "code",
        "colab": {}
      },
      "source": [
        "clf=DTC()"
      ],
      "execution_count": 0,
      "outputs": []
    },
    {
      "cell_type": "code",
      "metadata": {
        "id": "oTRCQbwN1NdD",
        "colab_type": "code",
        "colab": {}
      },
      "source": [
        "# now time for training data\n",
        "trained=clf.fit(train_data,label_train)\n"
      ],
      "execution_count": 0,
      "outputs": []
    },
    {
      "cell_type": "code",
      "metadata": {
        "id": "lvVrsn9a1oEu",
        "colab_type": "code",
        "colab": {}
      },
      "source": [
        "# Predicting data\n",
        "predict_flower=trained.predict(test_data)"
      ],
      "execution_count": 0,
      "outputs": []
    },
    {
      "cell_type": "code",
      "metadata": {
        "id": "ERelr3ds17dU",
        "colab_type": "code",
        "outputId": "f80b3085-58c7-42da-a561-30f154f1000d",
        "colab": {
          "base_uri": "https://localhost:8080/",
          "height": 86
        }
      },
      "source": [
        "print(predict_flower)# Predicted algo answer\n",
        "print(label_test) # Actual answer\n"
      ],
      "execution_count": 168,
      "outputs": [
        {
          "output_type": "stream",
          "text": [
            "[2 2 0 0 2 0 1 1 1 0 2 2 2 1 1 2 0 1 0 1 2 0 0 1 2 1 2 2 0 2 0 2 2 1 1 1 0\n",
            " 0 1 0 2 0 2 2 2]\n",
            "[2 2 0 0 1 0 1 1 1 0 2 2 2 1 1 2 0 1 0 1 2 0 0 1 2 1 2 2 0 2 0 2 2 1 1 1 0\n",
            " 0 1 0 2 0 2 2 2]\n"
          ],
          "name": "stdout"
        }
      ]
    },
    {
      "cell_type": "code",
      "metadata": {
        "id": "4S3EZQHT2ZOI",
        "colab_type": "code",
        "outputId": "6f484be6-5116-4452-f73a-ff1c010f01f3",
        "colab": {
          "base_uri": "https://localhost:8080/",
          "height": 34
        }
      },
      "source": [
        "# to find accuracy score\n",
        "print((accuracy_score(label_test,predict_flower)*100),'%')"
      ],
      "execution_count": 169,
      "outputs": [
        {
          "output_type": "stream",
          "text": [
            "97.77777777777777 %\n"
          ],
          "name": "stdout"
        }
      ]
    }
  ]
}
