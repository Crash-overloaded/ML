{
  "nbformat": 4,
  "nbformat_minor": 0,
  "metadata": {
    "colab": {
      "name": "Data_Engineering.ipynb",
      "version": "0.3.2",
      "provenance": [],
      "collapsed_sections": [],
      "include_colab_link": true
    },
    "kernelspec": {
      "name": "python3",
      "display_name": "Python 3"
    }
  },
  "cells": [
    {
      "cell_type": "markdown",
      "metadata": {
        "id": "view-in-github",
        "colab_type": "text"
      },
      "source": [
        "<a href=\"https://colab.research.google.com/github/Crash-overloaded/ML/blob/master/Data_Engineering.ipynb\" target=\"_parent\"><img src=\"https://colab.research.google.com/assets/colab-badge.svg\" alt=\"Open In Colab\"/></a>"
      ]
    },
    {
      "cell_type": "markdown",
      "metadata": {
        "id": "ECw44OD8GBPw",
        "colab_type": "text"
      },
      "source": [
        "# IMPUTER\n",
        "# LABEL ENCODING\n",
        "# ONE HOT ENCODING\n"
      ]
    },
    {
      "cell_type": "code",
      "metadata": {
        "id": "oT2VsPBtz_Rn",
        "colab_type": "code",
        "outputId": "d8be2aca-3348-4122-fe15-97c544539d01",
        "colab": {
          "base_uri": "https://localhost:8080/",
          "height": 295
        }
      },
      "source": [
        "import pandas as pd\n",
        "df=pd.read_csv(\"http://13.234.66.67/summer19/datasets/info.csv\")\n",
        "#pos_sal=pd.read_csv(\"http://13.234.66.67/summer19/datasets/pos_sal.csv\")\n",
        "# Removing Header from csv file\n",
        "features=df.iloc[:,0:4].values\n",
        "print(features)"
      ],
      "execution_count": 1,
      "outputs": [
        {
          "output_type": "stream",
          "text": [
            "   Country   Age   Salary Purchased\n",
            "0   France  44.0  72000.0        No\n",
            "1    Spain  27.0  48000.0       Yes\n",
            "2  Germany  30.0  54000.0        No\n",
            "3    Spain  38.0  61000.0        No\n",
            "4  Germany  40.0      NaN       Yes\n",
            "[['France' 44.0 72000.0 'No']\n",
            " ['Spain' 27.0 48000.0 'Yes']\n",
            " ['Germany' 30.0 54000.0 'No']\n",
            " ['Spain' 38.0 61000.0 'No']\n",
            " ['Germany' 40.0 nan 'Yes']\n",
            " ['France' 35.0 58000.0 'Yes']\n",
            " ['Spain' nan 52000.0 'No']\n",
            " ['France' 48.0 79000.0 'Yes']\n",
            " ['Germany' 50.0 83000.0 'No']\n",
            " ['France' 37.0 67000.0 'Yes']]\n"
          ],
          "name": "stdout"
        }
      ]
    },
    {
      "cell_type": "code",
      "metadata": {
        "id": "ud-dJWQI1jfu",
        "colab_type": "code",
        "colab": {}
      },
      "source": [
        "# Removing missing values or replacing missing value with some relevant data\n",
        "  #info.describe()\n",
        "  from sklearn.preprocessing import Imputer"
      ],
      "execution_count": 0,
      "outputs": []
    },
    {
      "cell_type": "code",
      "metadata": {
        "id": "2HSOlr2l2HUZ",
        "colab_type": "code",
        "outputId": "fe667f2f-7db0-4166-e96e-fa6eac21cb3b",
        "colab": {
          "base_uri": "https://localhost:8080/",
          "height": 72
        }
      },
      "source": [
        "# Strategy is the way of choosing missing value\n",
        "# axis -> 0 = columns operations\n",
        "# axis -> 1 = row operations\n",
        "imp=Imputer(missing_values='NaN',axis=0,strategy='most_frequent')\n"
      ],
      "execution_count": 262,
      "outputs": [
        {
          "output_type": "stream",
          "text": [
            "/usr/local/lib/python3.6/dist-packages/sklearn/utils/deprecation.py:66: DeprecationWarning: Class Imputer is deprecated; Imputer was deprecated in version 0.20 and will be removed in 0.22. Import impute.SimpleImputer from sklearn instead.\n",
            "  warnings.warn(msg, category=DeprecationWarning)\n"
          ],
          "name": "stderr"
        }
      ]
    },
    {
      "cell_type": "code",
      "metadata": {
        "id": "bE4SE8EG4sY1",
        "colab_type": "code",
        "colab": {}
      },
      "source": [
        "# Selecting and tranforming 2 and 3rd column\n",
        "# fitting extracts schema\n",
        "# This is only fitting of columns that we want to process\n",
        "impute=imp.fit(features[:,[1,2]]) # it tells where we have to apply imp function\n"
      ],
      "execution_count": 0,
      "outputs": []
    },
    {
      "cell_type": "code",
      "metadata": {
        "id": "mC_9_TPH5XeO",
        "colab_type": "code",
        "outputId": "d26c8ff0-d77c-4a6a-d3aa-4fb308e49170",
        "colab": {
          "base_uri": "https://localhost:8080/",
          "height": 191
        }
      },
      "source": [
        "# It extracts data\n",
        "# Just aaplying \n",
        "features[:,[1,2]]=impute.transform(features[:,[1,2]])\n",
        "features\n"
      ],
      "execution_count": 264,
      "outputs": [
        {
          "output_type": "execute_result",
          "data": {
            "text/plain": [
              "array([['France', 44.0, 72000.0, 'No'],\n",
              "       ['Spain', 27.0, 48000.0, 'Yes'],\n",
              "       ['Germany', 30.0, 54000.0, 'No'],\n",
              "       ['Spain', 38.0, 61000.0, 'No'],\n",
              "       ['Germany', 40.0, 48000.0, 'Yes'],\n",
              "       ['France', 35.0, 58000.0, 'Yes'],\n",
              "       ['Spain', 27.0, 52000.0, 'No'],\n",
              "       ['France', 48.0, 79000.0, 'Yes'],\n",
              "       ['Germany', 50.0, 83000.0, 'No'],\n",
              "       ['France', 37.0, 67000.0, 'Yes']], dtype=object)"
            ]
          },
          "metadata": {
            "tags": []
          },
          "execution_count": 264
        }
      ]
    },
    {
      "cell_type": "markdown",
      "metadata": {
        "id": "L0YSbQK08hnO",
        "colab_type": "text"
      },
      "source": [
        "# Replacing Country names and answer(Yes/no) with integer labels"
      ]
    },
    {
      "cell_type": "code",
      "metadata": {
        "id": "Vo-AxePY7rm0",
        "colab_type": "code",
        "colab": {}
      },
      "source": [
        "# Replacing string with integers labels\n",
        "from sklearn.preprocessing import LabelEncoder"
      ],
      "execution_count": 0,
      "outputs": []
    },
    {
      "cell_type": "code",
      "metadata": {
        "id": "sQS_hZU87x7R",
        "colab_type": "code",
        "colab": {}
      },
      "source": [
        "enc=LabelEncoder() # Labelling country with integers"
      ],
      "execution_count": 0,
      "outputs": []
    },
    {
      "cell_type": "code",
      "metadata": {
        "id": "DzFtWbF68AEX",
        "colab_type": "code",
        "colab": {}
      },
      "source": [
        "features[:,0]=enc.fit_transform(features[:,0])\n",
        "features[:,-1]=enc.fit_transform(features[:,-1])"
      ],
      "execution_count": 0,
      "outputs": []
    },
    {
      "cell_type": "code",
      "metadata": {
        "id": "5zBv-N4P8G9B",
        "colab_type": "code",
        "outputId": "6e617b6b-d14a-4e5e-efa7-1edf8d92070c",
        "colab": {
          "base_uri": "https://localhost:8080/",
          "height": 191
        }
      },
      "source": [
        "# France -> 0\n",
        "# Germany -> 1\n",
        "# Spain -> 2\n",
        "\n",
        "# Also 0 for no and 1 for yes\n",
        "\n",
        "features"
      ],
      "execution_count": 268,
      "outputs": [
        {
          "output_type": "execute_result",
          "data": {
            "text/plain": [
              "array([[0, 44.0, 72000.0, 0],\n",
              "       [2, 27.0, 48000.0, 1],\n",
              "       [1, 30.0, 54000.0, 0],\n",
              "       [2, 38.0, 61000.0, 0],\n",
              "       [1, 40.0, 48000.0, 1],\n",
              "       [0, 35.0, 58000.0, 1],\n",
              "       [2, 27.0, 52000.0, 0],\n",
              "       [0, 48.0, 79000.0, 1],\n",
              "       [1, 50.0, 83000.0, 0],\n",
              "       [0, 37.0, 67000.0, 1]], dtype=object)"
            ]
          },
          "metadata": {
            "tags": []
          },
          "execution_count": 268
        }
      ]
    },
    {
      "cell_type": "code",
      "metadata": {
        "id": "BxAMAP_nDGRr",
        "colab_type": "code",
        "colab": {}
      },
      "source": [
        "#Now encoding first column making subcolumn of first column\n",
        "from sklearn.preprocessing import OneHotEncoder"
      ],
      "execution_count": 0,
      "outputs": []
    },
    {
      "cell_type": "code",
      "metadata": {
        "id": "M_vD-qrSDWDk",
        "colab_type": "code",
        "colab": {}
      },
      "source": [
        "# Categorical features is the column number whose we want to make subcolumns\n",
        "firstcl=OneHotEncoder(categorical_features=[0]) # Editifying and defining exact column no where we want to make subcolumns or category\n"
      ],
      "execution_count": 0,
      "outputs": []
    },
    {
      "cell_type": "code",
      "metadata": {
        "id": "poNUJYTdD6aL",
        "colab_type": "code",
        "colab": {
          "base_uri": "https://localhost:8080/",
          "height": 141
        },
        "outputId": "a83d2d50-af1b-41e1-81d0-26c7ad618558"
      },
      "source": [
        "# Transforming columns to subcolumns and converting it into array \n",
        "features=firstcl.fit_transform(features).toarray() # After tranformation convert it into numpy array\n"
      ],
      "execution_count": 271,
      "outputs": [
        {
          "output_type": "stream",
          "text": [
            "/usr/local/lib/python3.6/dist-packages/sklearn/preprocessing/_encoders.py:415: FutureWarning: The handling of integer data will change in version 0.22. Currently, the categories are determined based on the range [0, max(values)], while in the future they will be determined based on the unique values.\n",
            "If you want the future behaviour and silence this warning, you can specify \"categories='auto'\".\n",
            "In case you used a LabelEncoder before this OneHotEncoder to convert the categories to integers, then you can now use the OneHotEncoder directly.\n",
            "  warnings.warn(msg, FutureWarning)\n",
            "/usr/local/lib/python3.6/dist-packages/sklearn/preprocessing/_encoders.py:451: DeprecationWarning: The 'categorical_features' keyword is deprecated in version 0.20 and will be removed in 0.22. You can use the ColumnTransformer instead.\n",
            "  \"use the ColumnTransformer instead.\", DeprecationWarning)\n"
          ],
          "name": "stderr"
        }
      ]
    },
    {
      "cell_type": "code",
      "metadata": {
        "id": "BTsGmGdUEHIU",
        "colab_type": "code",
        "colab": {
          "base_uri": "https://localhost:8080/",
          "height": 191
        },
        "outputId": "e72f0413-f43a-48f6-9744-571242e6d19e"
      },
      "source": [
        "# To show the data in integer\n",
        "print(features.astype(int))"
      ],
      "execution_count": 273,
      "outputs": [
        {
          "output_type": "stream",
          "text": [
            "[[    1     0     0    44 72000     0]\n",
            " [    0     0     1    27 48000     1]\n",
            " [    0     1     0    30 54000     0]\n",
            " [    0     0     1    38 61000     0]\n",
            " [    0     1     0    40 48000     1]\n",
            " [    1     0     0    35 58000     1]\n",
            " [    0     0     1    27 52000     0]\n",
            " [    1     0     0    48 79000     1]\n",
            " [    0     1     0    50 83000     0]\n",
            " [    1     0     0    37 67000     1]]\n"
          ],
          "name": "stdout"
        }
      ]
    }
  ]
}