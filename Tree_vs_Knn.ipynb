{
  "nbformat": 4,
  "nbformat_minor": 0,
  "metadata": {
    "colab": {
      "name": "Tree_vs_Knn.ipynb",
      "version": "0.3.2",
      "provenance": [],
      "include_colab_link": true
    },
    "kernelspec": {
      "name": "python3",
      "display_name": "Python 3"
    }
  },
  "cells": [
    {
      "cell_type": "markdown",
      "metadata": {
        "id": "view-in-github",
        "colab_type": "text"
      },
      "source": [
        "<a href=\"https://colab.research.google.com/github/Crash-overloaded/ML/blob/Supervised_ML/Tree_vs_Knn.ipynb\" target=\"_parent\"><img src=\"https://colab.research.google.com/assets/colab-badge.svg\" alt=\"Open In Colab\"/></a>"
      ]
    },
    {
      "cell_type": "code",
      "metadata": {
        "id": "PLXprqK-vZhk",
        "colab_type": "code",
        "colab": {}
      },
      "source": [
        "from sklearn.datasets import load_breast_cancer\n",
        "from sklearn.model_selection import train_test_split\n",
        "from sklearn.neighbors import KNeighborsClassifier\n",
        "from sklearn.tree import DecisionTreeClassifier\n",
        "import matplotlib.pyplot as plt\n",
        "from sklearn.metrics import accuracy_score"
      ],
      "execution_count": 0,
      "outputs": []
    },
    {
      "cell_type": "code",
      "metadata": {
        "id": "Xi8xeY5ZvkoJ",
        "colab_type": "code",
        "colab": {}
      },
      "source": [
        "# Loading Cancer dataset\n",
        "cancer=load_breast_cancer()\n",
        "# Attributes and labels are stored\n",
        "features=cancer.data\n",
        "label=cancer.target"
      ],
      "execution_count": 0,
      "outputs": []
    },
    {
      "cell_type": "code",
      "metadata": {
        "id": "UPXKXR-vwKDz",
        "colab_type": "code",
        "colab": {}
      },
      "source": [
        "# Splitting training and testing data,labels\n",
        "train_data,test_data,train_label,test_label=train_test_split(features,label,test_size=0.2)\n"
      ],
      "execution_count": 0,
      "outputs": []
    },
    {
      "cell_type": "markdown",
      "metadata": {
        "id": "PYyu7PlfumEH",
        "colab_type": "text"
      },
      "source": [
        "# Using KNN classifier\n"
      ]
    },
    {
      "cell_type": "code",
      "metadata": {
        "id": "fBpGRS1RxCLh",
        "colab_type": "code",
        "colab": {}
      },
      "source": [
        "# Calling KNN classifier\n",
        "kclf=KNeighborsClassifier()\n"
      ],
      "execution_count": 0,
      "outputs": []
    },
    {
      "cell_type": "code",
      "metadata": {
        "id": "oh7Uhjbzxvfb",
        "colab_type": "code",
        "colab": {}
      },
      "source": [
        "# Fitting training data and labels to kNN classifier\n",
        "k_trained=kclf.fit(train_data,train_label)"
      ],
      "execution_count": 0,
      "outputs": []
    },
    {
      "cell_type": "code",
      "metadata": {
        "id": "6TyoanVEx8xV",
        "colab_type": "code",
        "colab": {
          "base_uri": "https://localhost:8080/",
          "height": 86
        },
        "outputId": "bbe39f96-4363-45ab-b851-8ffc78ec09c3"
      },
      "source": [
        "# Predicting testing data\n",
        "k_predict=k_trained.predict(test_data)\n",
        "print(k_predict)"
      ],
      "execution_count": 745,
      "outputs": [
        {
          "output_type": "stream",
          "text": [
            "[1 1 0 0 1 1 1 0 0 1 1 1 1 1 1 1 1 0 1 0 0 1 1 0 1 1 1 1 1 0 1 0 0 0 1 1 1\n",
            " 0 1 0 0 1 0 0 1 1 1 1 1 1 1 0 1 1 1 0 1 0 0 1 0 1 1 1 1 1 0 1 1 0 1 1 0 1\n",
            " 1 1 0 0 0 1 0 1 0 0 1 0 0 1 0 1 1 1 0 0 0 1 0 1 1 1 0 0 0 1 0 1 0 1 1 1 1\n",
            " 1 1 0]\n"
          ],
          "name": "stdout"
        }
      ]
    },
    {
      "cell_type": "code",
      "metadata": {
        "id": "O6MlFPA-y101",
        "colab_type": "code",
        "colab": {
          "base_uri": "https://localhost:8080/",
          "height": 34
        },
        "outputId": "d7ee3c8e-6202-4b7c-8bc7-dd06095f66d1"
      },
      "source": [
        "# Calculating accuracy b/w predicted label and testing label\n",
        "k_accuracy=accuracy_score(test_label,k_predict)*100\n",
        "print(k_accuracy)\n"
      ],
      "execution_count": 746,
      "outputs": [
        {
          "output_type": "stream",
          "text": [
            "94.73684210526315\n"
          ],
          "name": "stdout"
        }
      ]
    },
    {
      "cell_type": "markdown",
      "metadata": {
        "id": "6kjc-lxH3MJr",
        "colab_type": "text"
      },
      "source": [
        "# Now Using Decision Tree Classifier"
      ]
    },
    {
      "cell_type": "code",
      "metadata": {
        "id": "NLnPDS3u3bT4",
        "colab_type": "code",
        "colab": {}
      },
      "source": [
        "# Calling Decision Tree Classifier\n",
        "dclf=DecisionTreeClassifier()"
      ],
      "execution_count": 0,
      "outputs": []
    },
    {
      "cell_type": "code",
      "metadata": {
        "id": "G6xb0k_h3muH",
        "colab_type": "code",
        "colab": {}
      },
      "source": [
        "# Fitting Training data and labels to DT\n",
        "d_trained=dclf.fit(train_data,train_label)"
      ],
      "execution_count": 0,
      "outputs": []
    },
    {
      "cell_type": "code",
      "metadata": {
        "id": "8hwlzFfP30eP",
        "colab_type": "code",
        "colab": {
          "base_uri": "https://localhost:8080/",
          "height": 86
        },
        "outputId": "0f4866d1-ab46-44f8-d64e-5c398c2c1266"
      },
      "source": [
        "# Predicting testing data\n",
        "d_predict=d_trained.predict(test_data)\n",
        "print(d_predict)"
      ],
      "execution_count": 749,
      "outputs": [
        {
          "output_type": "stream",
          "text": [
            "[1 1 0 0 1 1 1 0 0 1 1 1 1 1 1 1 1 1 1 0 0 1 1 0 1 1 1 1 1 0 1 0 0 0 1 1 1\n",
            " 0 1 0 0 1 0 0 1 1 1 1 1 1 1 0 1 1 1 0 1 0 0 0 0 1 1 1 1 1 0 1 1 0 0 1 0 1\n",
            " 1 1 0 0 0 1 0 1 0 0 0 0 0 1 0 1 1 1 0 0 0 1 0 1 1 1 0 0 0 0 0 1 0 1 1 1 1\n",
            " 0 1 0]\n"
          ],
          "name": "stdout"
        }
      ]
    },
    {
      "cell_type": "code",
      "metadata": {
        "id": "R_yXG66R4JXP",
        "colab_type": "code",
        "colab": {
          "base_uri": "https://localhost:8080/",
          "height": 34
        },
        "outputId": "36f69f38-2381-41a6-8a8e-8749d5c3f81b"
      },
      "source": [
        "# Getting accuracy for DT prediction\n",
        "d_accuracy=accuracy_score(d_predict,test_label)*100\n",
        "print(d_accuracy)"
      ],
      "execution_count": 750,
      "outputs": [
        {
          "output_type": "stream",
          "text": [
            "94.73684210526315\n"
          ],
          "name": "stdout"
        }
      ]
    },
    {
      "cell_type": "markdown",
      "metadata": {
        "id": "ozeRa1O5-3sg",
        "colab_type": "text"
      },
      "source": [
        "# Plotting Graph of DecisionTree vs Knn for different value of k "
      ]
    },
    {
      "cell_type": "code",
      "metadata": {
        "id": "Vu3kbpFj_N3Q",
        "colab_type": "code",
        "colab": {
          "base_uri": "https://localhost:8080/",
          "height": 295
        },
        "outputId": "9986b345-6fc6-4200-c5d0-8297a36d9753"
      },
      "source": [
        "k_predictions=[]\n",
        "d_predictions=[]\n",
        "for i in range(3,10):\n",
        "  kclf=KNeighborsClassifier(n_neighbors=i)\n",
        "  k_trained=kclf.fit(train_data,train_label)\n",
        "  k_predict=k_trained.predict(test_data)\n",
        "  k_predictions.append(accuracy_score(test_label,k_predict)*100)\n",
        "  dclf=DecisionTreeClassifier()\n",
        "  d_trained=dclf.fit(train_data,train_label)\n",
        "  d_predict=d_trained.predict(test_data)\n",
        "  d_predictions.append(accuracy_score(d_predict,test_label)*100)\n",
        "knum=[3,4,5,6,7,8,9]\n",
        "width=0.3\n",
        "knum1=[3.3,4.3,5.3,6.3,7.3,8.3,9.3]\n",
        "plt.title(\"Knn vs Decisiontree Accuracy\")\n",
        "plt.xlabel(\"K number\")\n",
        "plt.ylabel(\"Accuracy\")\n",
        "plt.bar(knum,k_predictions,width,edgecolor=\"white\",label=\"KNN\")\n",
        "plt.bar(knum1,d_predictions,width,edgecolor=\"white\",label=\"DecisionTree\")\n",
        "plt.legend()\n",
        "#plt.grid(True,color=\"g\")\n",
        "plt.show()"
      ],
      "execution_count": 751,
      "outputs": [
        {
          "output_type": "display_data",
          "data": {
            "image/png": "[encoded data removed]",
            "text/plain": [
              "<Figure size 432x288 with 1 Axes>"
            ]
          },
          "metadata": {
            "tags": []
          }
        }
      ]
    }
  ]
}