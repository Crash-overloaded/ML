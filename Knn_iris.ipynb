{
  "nbformat": 4,
  "nbformat_minor": 0,
  "metadata": {
    "colab": {
      "name": "Knn_iris.ipynb",
      "version": "0.3.2",
      "provenance": [],
      "include_colab_link": true
    },
    "kernelspec": {
      "name": "python3",
      "display_name": "Python 3"
    }
  },
  "cells": [
    {
      "cell_type": "markdown",
      "metadata": {
        "id": "view-in-github",
        "colab_type": "text"
      },
      "source": [
        "<a href=\"https://colab.research.google.com/github/Crash-overloaded/ML/blob/Supervised_ML/Knn_iris.ipynb\" target=\"_parent\"><img src=\"https://colab.research.google.com/assets/colab-badge.svg\" alt=\"Open In Colab\"/></a>"
      ]
    },
    {
      "cell_type": "code",
      "metadata": {
        "id": "PLXprqK-vZhk",
        "colab_type": "code",
        "colab": {}
      },
      "source": [
        "from sklearn.datasets import load_iris\n",
        "from sklearn.model_selection import train_test_split\n",
        "from sklearn.neighbors import KNeighborsClassifier\n",
        "from sklearn.metrics import accuracy_score"
      ],
      "execution_count": 0,
      "outputs": []
    },
    {
      "cell_type": "code",
      "metadata": {
        "id": "Xi8xeY5ZvkoJ",
        "colab_type": "code",
        "colab": {}
      },
      "source": [
        "# Loading iris dataset\n",
        "iris=load_iris()\n",
        "# Attributes and labels are stored\n",
        "features=iris.data\n",
        "label=iris.target"
      ],
      "execution_count": 0,
      "outputs": []
    },
    {
      "cell_type": "code",
      "metadata": {
        "id": "UPXKXR-vwKDz",
        "colab_type": "code",
        "colab": {}
      },
      "source": [
        "# Splitting training and testing data,labels\n",
        "train_data,test_data,train_label,test_label=train_test_split(features,label,test_size=0.2)\n"
      ],
      "execution_count": 0,
      "outputs": []
    },
    {
      "cell_type": "code",
      "metadata": {
        "id": "fBpGRS1RxCLh",
        "colab_type": "code",
        "colab": {}
      },
      "source": [
        "# Calling KNN classifier\n",
        "kclf=KNeighborsClassifier()\n"
      ],
      "execution_count": 0,
      "outputs": []
    },
    {
      "cell_type": "code",
      "metadata": {
        "id": "oh7Uhjbzxvfb",
        "colab_type": "code",
        "colab": {}
      },
      "source": [
        "# Fitting training data and labels to kNN classifier\n",
        "trained=kclf.fit(train_data,train_label)"
      ],
      "execution_count": 0,
      "outputs": []
    },
    {
      "cell_type": "code",
      "metadata": {
        "id": "6TyoanVEx8xV",
        "colab_type": "code",
        "colab": {
          "base_uri": "https://localhost:8080/",
          "height": 34
        },
        "outputId": "c5c9e806-439e-4e70-ed92-0110262d81bb"
      },
      "source": [
        "# Predicting testing data\n",
        "predict=kclf.predict(test_data)\n",
        "print(predict)"
      ],
      "execution_count": 67,
      "outputs": [
        {
          "output_type": "stream",
          "text": [
            "[2 0 0 1 2 2 2 0 1 1 2 0 1 1 0 0 0 0 1 1 1 2 1 0 0 0 2 2 0 0]\n"
          ],
          "name": "stdout"
        }
      ]
    },
    {
      "cell_type": "code",
      "metadata": {
        "id": "O6MlFPA-y101",
        "colab_type": "code",
        "colab": {
          "base_uri": "https://localhost:8080/",
          "height": 34
        },
        "outputId": "896123ff-5d77-41a4-d1fa-8815dbea3f6f"
      },
      "source": [
        "# Calculating accuracy b/w predicted label and testing label\n",
        "accuracy=accuracy_score(test_label,predict)*100\n",
        "print(accuracy)"
      ],
      "execution_count": 68,
      "outputs": [
        {
          "output_type": "stream",
          "text": [
            "96.66666666666667\n"
          ],
          "name": "stdout"
        }
      ]
    }
  ]
}